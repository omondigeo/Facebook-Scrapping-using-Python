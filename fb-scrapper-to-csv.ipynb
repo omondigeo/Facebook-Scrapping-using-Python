{
 "cells": [
  {
   "cell_type": "code",
   "execution_count": null,
   "id": "60c118e1-1a00-4306-99a7-3a5437f465fe",
   "metadata": {},
   "outputs": [
    {
     "data": {
      "application/vnd.jupyter.widget-view+json": {
       "model_id": "8355403e43924eac95dce45b812ee301",
       "version_major": 2,
       "version_minor": 0
      },
      "text/plain": [
       "  0%|          | 0/730 [00:00<?, ?it/s]"
      ]
     },
     "metadata": {},
     "output_type": "display_data"
    },
    {
     "name": "stdout",
     "output_type": "stream",
     "text": [
      "Data exported to output.csv successfully.\n"
     ]
    }
   ],
   "source": [
    "\"\"\"\n",
    "Download comments for a public Facebook post.\n",
    "Developed by Francis Omondi\n",
    "\"\"\"\n",
    "\n",
    "import facebook_scraper as fs\n",
    "import pandas as pd\n",
    "import emoji\n",
    "\n",
    "# get POST_ID from the URL of the post which can have the following structure:\n",
    "# https://www.facebook.com/USER/posts/POST_ID\n",
    "# https://www.facebook.com/groups/GROUP_ID/posts/POST_ID\n",
    "#POST_ID = \"pfbid02NsuAiBU9o1ouwBrw1vYAQ7khcVXvz8F8zMvkVat9UJ6uiwdgojgddQRLpXcVBqYbl\"\n",
    "POST_ID = \"pfbid0KkFzVESMadRj1LJpsKA8Z7EsFxX6LV32KwUwBBLqV5of7mBLuXJozaQuEqp39CVhl?rdid=4JRwiMfah1ZAk6Sn\"  #example of a post from a public page Pauline Njoroge\n",
    "\n",
    "# number of comments to download -- set this to True to download all comments\n",
    "\n",
    "MAX_COMMENTS = True\n",
    "\n",
    "# get the post (this gives a generator)\n",
    "gen = fs.get_posts(\n",
    "    post_urls=[POST_ID],\n",
    "    options={\"comments\": MAX_COMMENTS, \"progress\": True}\n",
    ")\n",
    "\n",
    "# take 1st element of the generator which is the post we requested\n",
    "post = next(gen)\n",
    "\n",
    "# extract the comments part\n",
    "comments = post['comments_full']\n",
    "\n",
    "#function to flatten the comments\n",
    "def flatten_comments(comments):\n",
    "    flat_comments = []\n",
    "\n",
    "    for comment in comments:\n",
    "        # Flatten the main comment\n",
    "        flat_comments.append({\n",
    "            'comment_id': comment['comment_id'],\n",
    "            'comment_url': comment['comment_url'],\n",
    "            'commenter_id': comment['commenter_id'],\n",
    "            'commenter_url': comment['commenter_url'],\n",
    "            'commenter_name': comment['commenter_name'],\n",
    "            'commenter_meta': comment['commenter_meta'],\n",
    "            'comment_text': emoji.emojize(comment['comment_text']),\n",
    "            'comment_time': comment['comment_time'],\n",
    "            'comment_image': comment['comment_image'],\n",
    "            'comment_reactors': comment['comment_reactors'],\n",
    "            'comment_reactions': comment['comment_reactions'],\n",
    "            'comment_reaction_count': comment['comment_reaction_count'],\n",
    "            'is_reply': False,\n",
    "            'parent_comment_id': None\n",
    "        })\n",
    "\n",
    "        # Flatten the replies\n",
    "        for reply in comment.get('replies', []):\n",
    "            flat_comments.append({\n",
    "                'comment_id': reply['comment_id'],\n",
    "                'comment_url': reply['comment_url'],\n",
    "                'commenter_id': reply['commenter_id'],\n",
    "                'commenter_url': reply['commenter_url'],\n",
    "                'commenter_name': reply['commenter_name'],\n",
    "                'commenter_meta': reply['commenter_meta'],\n",
    "                'comment_text': emoji.emojize(reply['comment_text']),\n",
    "                'comment_time': reply['comment_time'],\n",
    "                'comment_image': reply['comment_image'],\n",
    "                'comment_reactors': reply['comment_reactors'],\n",
    "                'comment_reactions': reply['comment_reactions'],\n",
    "                'comment_reaction_count': reply['comment_reaction_count'],\n",
    "                'is_reply': True,\n",
    "                'parent_comment_id': comment['comment_id']\n",
    "            })\n",
    "\n",
    "    return flat_comments\n",
    "\n",
    "# Flatten the data\n",
    "flat_comments = flatten_comments(comments)\n",
    "\n",
    "# Create DataFrame\n",
    "df = pd.DataFrame(flat_comments)\n",
    "\n",
    "# Export to CSV. You can as well specify the location to save your CSV file using the file\\path\\folder\n",
    "df.to_csv('fb-comments13.csv', index=False)\n",
    "\n",
    "print(\"Data exported to output.csv successfully.\")\n",
    "        "
   ]
  },
  {
   "cell_type": "code",
   "execution_count": null,
   "id": "2a438149-ecb8-49bc-8bb5-49b5138362bc",
   "metadata": {},
   "outputs": [],
   "source": []
  }
 ],
 "metadata": {
  "kernelspec": {
   "display_name": "Python 3 (ipykernel)",
   "language": "python",
   "name": "python3"
  },
  "language_info": {
   "codemirror_mode": {
    "name": "ipython",
    "version": 3
   },
   "file_extension": ".py",
   "mimetype": "text/x-python",
   "name": "python",
   "nbconvert_exporter": "python",
   "pygments_lexer": "ipython3",
   "version": "3.11.5"
  }
 },
 "nbformat": 4,
 "nbformat_minor": 5
}
